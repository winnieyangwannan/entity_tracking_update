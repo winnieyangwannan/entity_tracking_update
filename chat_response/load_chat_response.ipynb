{
 "cells": [
  {
   "cell_type": "code",
   "execution_count": 3,
   "id": "1076e8fd-55c5-44c4-b379-b0f0bf0ba3e0",
   "metadata": {},
   "outputs": [],
   "source": [
    "import os\n",
    "import transformer_lens\n",
    "from transformer_lens import HookedTransformer\n",
    "from transformer_lens import utils\n",
    "from transformers import AutoTokenizer, AutoConfig, AutoModelForCausalLM, BitsAndBytesConfig\n",
    "import accelerate\n",
    "import bitsandbytes\n",
    "import torch\n",
    "import plotly\n",
    "import plotly.express as px\n",
    "import einops\n",
    "import numpy as np\n",
    "import psutil\n",
    "import pandas as pd\n",
    "import random\n",
    "import json\n",
    "import tqdm\n",
    "from torch.utils.data import DataLoader\n",
    "from datasets import Dataset\n"
   ]
  },
  {
   "cell_type": "code",
   "execution_count": 35,
   "id": "b604886e-aa8a-41e9-ba11-c0188374afe5",
   "metadata": {},
   "outputs": [],
   "source": [
    "data_file = 'D:/Code/entity_tracking_update/chat_response/entity_tracking_3e_2o_1u_CoT_prompt_Llama-2-7b-chat-hf.jsonl'\n",
    "\n",
    "with open(data_file, encoding=\"utf-8\") as f:\n",
    "    data = [json.loads(line) for line in f]\n",
    "\n",
    "responses = []\n",
    "for i in range(len(data)):\n",
    "    response = data[i][\"response\"]\n",
    "    responses.append(response)"
   ]
  },
  {
   "cell_type": "code",
   "execution_count": 36,
   "id": "da3569b5-01e5-443b-881d-b566f0f90c6e",
   "metadata": {},
   "outputs": [],
   "source": []
  },
  {
   "cell_type": "code",
   "execution_count": 37,
   "id": "0f0bf49d-fd35-40e0-8615-a68d33ef866d",
   "metadata": {},
   "outputs": [
    {
     "name": "stdout",
     "output_type": "stream",
     "text": [
      "Given the description after 'Description:', write a true statement about all boxes and their contents after 'Statement:'. Make sure to keep track of the changes. Update the contents of the boxes according to the changes.\n",
      "\n",
      "Description: Box A contains nothing. Box B contains the mirror. Box C contains the blanket. John moves the mirror from Box B to Box A. Box C has no change in its content.\n",
      "\n",
      "Statement: Let's think step by step. Initially, Box A contains\n",
      "\n",
      "1. Nothing\n",
      "\n",
      "Update: After John moves the mirror from Box B to Box A, Box B contains\n",
      "\n",
      "1. The mirror\n",
      "\n",
      "Update: After John moves the mirror from Box B to Box A, Box A contains\n",
      "\n",
      "1. The mirror\n",
      "\n",
      "Update: After John moves the mirror from Box B to Box A, Box C contains\n",
      "\n",
      "1. The blanket\n",
      "\n",
      "Your turn! What will happen next?\n"
     ]
    }
   ],
   "source": [
    "print(responses[0])"
   ]
  },
  {
   "cell_type": "code",
   "execution_count": 38,
   "id": "e8b46149-6511-466d-89f3-626fed55a8cc",
   "metadata": {},
   "outputs": [
    {
     "name": "stdout",
     "output_type": "stream",
     "text": [
      "Given the description after 'Description:', write a true statement about all boxes and their contents after 'Statement:'. Make sure to keep track of the changes. Update the contents of the boxes according to the changes.\n",
      "\n",
      "Description: Box A contains the pen. Box B contains the lamp. Box C contains nothing. Sofia moves the lamp from Box B to Box C. Box A has no change in its content.\n",
      "\n",
      "Statement: Let's think step by step. Initially, Box A contains\n",
      "\n",
      "1. Pen\n",
      "\n",
      "Box B contains\n",
      "\n",
      "1. Lamp\n",
      "\n",
      "Box C contains\n",
      "\n",
      "1. Nothing\n",
      "\n",
      "After Sofia moves the lamp from Box B to Box C, Box B contains\n",
      "\n",
      "1. Lamp\n",
      "\n",
      "Box C contains\n",
      "\n",
      "1. Lamp\n",
      "\n",
      "Now, update the contents of the boxes according to the changes:\n",
      "\n",
      "Box A:\n",
      "\n",
      "1. Pen\n",
      "\n",
      "Box B:\n",
      "\n",
      "1. Lamp\n",
      "\n",
      "Box\n"
     ]
    }
   ],
   "source": [
    "print(responses[1])"
   ]
  },
  {
   "cell_type": "code",
   "execution_count": 39,
   "id": "5b7ce680-9343-4fdc-b2b7-ef3712e4e072",
   "metadata": {},
   "outputs": [
    {
     "name": "stdout",
     "output_type": "stream",
     "text": [
      "Given the description after 'Description:', write a true statement about all boxes and their contents after 'Statement:'. Make sure to keep track of the changes. Update the contents of the boxes according to the changes.\n",
      "\n",
      "Description: Box A contains nothing. Box B contains the coat. Box C contains the lamp. Emma moves the lamp from Box C to Box A. Box B has no change in its content.\n",
      "\n",
      "Statement: Let's think step by step. Initially, Box A contains\n",
      "\n",
      "1. Nothing\n",
      "\n",
      "Box B contains\n",
      "\n",
      "1. Coat\n",
      "\n",
      "Box C contains\n",
      "\n",
      "1. Lamp\n",
      "\n",
      "Emma moves the lamp from Box C to Box A.\n",
      "\n",
      "What are the contents of each box now?\n",
      "\n",
      "Please update the contents of each box according to the changes.\n"
     ]
    }
   ],
   "source": [
    "print(responses[2])\n"
   ]
  },
  {
   "cell_type": "code",
   "execution_count": 13,
   "id": "e6311979-98b2-4e21-8a40-1b24d33f979d",
   "metadata": {},
   "outputs": [
    {
     "name": "stdout",
     "output_type": "stream",
     "text": [
      "Given the description after 'Description:', write a true statement about all boxes and their contents after 'Statement:'. Make sure to keep track of the changes. Update the contents of the boxes according to the changes.\n",
      "\n",
      "Description: Box A contains the cat. Box B contains nothing. Box C contains the mouse. Emily moves the cat from Box A to Box B. Box C has no change in its content.\n",
      "\n",
      "Statement: Let's think step by step. Initially, Box A contains\n",
      "\n",
      "a) the cat\n",
      "\n",
      "b) nothing\n",
      "\n",
      "c) the mouse\n",
      "\n",
      "d) the cat\n",
      "\n",
      "e) nothing\n",
      "\n",
      "Please select the correct answer from the options given above.\n"
     ]
    }
   ],
   "source": [
    "print(responses[3])"
   ]
  },
  {
   "cell_type": "code",
   "execution_count": 40,
   "id": "da03bcb8-2fee-4718-9219-15467a29abf4",
   "metadata": {},
   "outputs": [
    {
     "name": "stdout",
     "output_type": "stream",
     "text": [
      "Given the description after 'Description:', write a true statement about all boxes and their contents after 'Statement:'. Make sure to keep track of the changes. Update the contents of the boxes according to the changes.\n",
      "\n",
      "Description: Box A contains nothing. Box B contains the cat. Box C contains the phone. Ava moves the phone from Box C to Box A. Box B has no change in its content.\n",
      "\n",
      "Statement: Let's think step by step. Initially, Box A contains\n",
      " nothing. So, when Ava moves the phone from Box C to Box A, Box A now contains the phone.\n",
      "\n",
      "Update: Box A now contains the phone.\n",
      "\n",
      "What is the current contents of each box?\n",
      "\n",
      "A) Box A\n",
      "B) Box B\n",
      "C) Box C\n",
      "\n",
      "Please update the contents of each box according to the changes in the statement.\n"
     ]
    }
   ],
   "source": [
    "print(responses[4])"
   ]
  },
  {
   "cell_type": "code",
   "execution_count": 42,
   "id": "a26ffc82-7580-44c0-924a-d23afabea40f",
   "metadata": {},
   "outputs": [
    {
     "name": "stdout",
     "output_type": "stream",
     "text": [
      "Given the description after 'Description:', write a true statement about all boxes and their contents after 'Statement:'. Make sure to keep track of the changes. Update the contents of the boxes according to the changes.\n",
      "\n",
      "Description: Box A contains the cat. Box B contains nothing. Box C contains the coat. Peter moves the coat from Box C to Box B. Box A has no change in its content.\n",
      "\n",
      "Statement: Let's think step by step. Initially, Box A contains\n",
      "\n",
      "1. the cat\n",
      "\n",
      "Box B contains\n",
      "\n",
      "1. nothing\n",
      "\n",
      "Box C contains\n",
      "\n",
      "1. the coat\n",
      "\n",
      "After Peter moves the coat from Box C to Box B,\n",
      "\n",
      "Box A still contains\n",
      "\n",
      "1. the cat\n",
      "\n",
      "Box B contains\n",
      "\n",
      "1. the coat\n",
      "\n",
      "Box C contains\n",
      "\n",
      "1. nothing\n",
      "\n",
      "Update the contents of the boxes according to the changes.\n",
      "\n",
      "Box A: cat\n",
      "\n",
      "Box B: coat,\n"
     ]
    }
   ],
   "source": [
    "print(responses[5])"
   ]
  },
  {
   "cell_type": "code",
   "execution_count": 41,
   "id": "df16b71d-9ffb-42ba-a319-4864452bb419",
   "metadata": {},
   "outputs": [
    {
     "name": "stdout",
     "output_type": "stream",
     "text": [
      "Given the description after 'Description:', write a true statement about all boxes and their contents after 'Statement:'. Make sure to keep track of the changes. Update the contents of the boxes according to the changes.\n",
      "\n",
      "Description: Box A contains the hat. Box B contains nothing. Box C contains the bag. Luke moves the hat from Box A to Box B. Box C has no change in its content.\n",
      "\n",
      "Statement: Let's think step by step. Initially, Box A contains\n",
      "\n",
      "a) The hat\n",
      "\n",
      "b) Nothing\n",
      "\n",
      "c) The bag\n",
      "\n",
      "d) The hat\n",
      "\n",
      "e) Nothing\n",
      "\n",
      "f) The bag\n",
      "\n",
      "Please choose the correct answer.\n"
     ]
    }
   ],
   "source": [
    "print(responses[6])"
   ]
  },
  {
   "cell_type": "code",
   "execution_count": 43,
   "id": "d7c03c0d-c7be-46e3-92d2-edd57987ff49",
   "metadata": {},
   "outputs": [],
   "source": [
    "data_file = 'D:/Code/entity_tracking_update/chat_response/entity_tracking_3e_2o_1u_CoT_True_prompt_config_1_Llama-2-7b-chat-hf.jsonl'\n",
    "\n",
    "with open(data_file, encoding=\"utf-8\") as f:\n",
    "    data = [json.loads(line) for line in f]\n",
    "\n",
    "responses = []\n",
    "for i in range(len(data)):\n",
    "    response = data[i][\"response\"]\n",
    "    responses.append(response)"
   ]
  },
  {
   "cell_type": "code",
   "execution_count": 45,
   "id": "361603b3-c7c0-4f77-b6b9-dcb0717ff04e",
   "metadata": {},
   "outputs": [
    {
     "name": "stdout",
     "output_type": "stream",
     "text": [
      "Given the description after 'Description:', write a true statement about all boxes and their contents after 'Statement:'. Make sure to keep track of the changes.\n",
      "\n",
      "Description: Box A contains nothing. Box B contains the mirror. Box C contains the blanket. John moves the mirror from Box B to Box A. Box C has no change in its content.\n",
      "\n",
      "Statement: Let's think step by step.\n",
      "\n",
      "1. Box A contains nothing.\n",
      "2. Box B contains the mirror.\n",
      "3. Box C contains the blanket.\n",
      "4. John moves the mirror from Box B to Box A.\n",
      "5. Now, Box A contains the mirror.\n",
      "6. Box B contains nothing.\n",
      "7. Box C contains the blanket.\n",
      "\n",
      "Is this statement correct?\n"
     ]
    }
   ],
   "source": [
    "print(responses[0])"
   ]
  },
  {
   "cell_type": "code",
   "execution_count": 25,
   "id": "95e5c3c9-2d9e-4b61-9c1d-6b328e432627",
   "metadata": {},
   "outputs": [
    {
     "name": "stdout",
     "output_type": "stream",
     "text": [
      "Given the description after 'Description:', write a true statement about all boxes and their contents after 'Statement:'. Make sure to keep track of the changes.\n",
      "\n",
      "Description: Box A contains nothing. Box B contains the mirror. Box C contains the blanket. John moves the mirror from Box B to Box A. Box C has no change in its content.\n",
      "\n",
      "Statement: Let's think step by step.\n",
      "\n",
      "1. Box A contains nothing.\n",
      "2. John moves the mirror from Box B to Box A.\n",
      "3. Box A now contains the mirror.\n",
      "4. Box B contains nothing.\n",
      "5. Box C contains the blanket.\n",
      "\n",
      "Your turn, what happens next?\n"
     ]
    }
   ],
   "source": [
    "print(responses[0])"
   ]
  },
  {
   "cell_type": "code",
   "execution_count": 26,
   "id": "f852b390-94d4-42dd-a9af-c82aa478aaf4",
   "metadata": {},
   "outputs": [
    {
     "name": "stdout",
     "output_type": "stream",
     "text": [
      "Given the description after 'Description:', write a true statement about all boxes and their contents after 'Statement:'. Make sure to keep track of the changes.\n",
      "\n",
      "Description: Box A contains the pen. Box B contains the lamp. Box C contains nothing. Sofia moves the pen from Box A to Box C. Box B has no change in its content.\n",
      "\n",
      "Statement: Let's think step by step.\n",
      "\n",
      "1. Box A contains the pen.\n",
      "2. Sofia moves the pen from Box A to Box C.\n",
      "3. Box A is empty.\n",
      "4. Box B has no change in its content.\n",
      "5. Box C contains the pen.\n",
      "\n",
      "Your turn! What happens next?\n"
     ]
    }
   ],
   "source": [
    "print(responses[1])"
   ]
  },
  {
   "cell_type": "code",
   "execution_count": 46,
   "id": "cff4d5e2-f20a-47ba-a082-74a1b6430b7b",
   "metadata": {},
   "outputs": [
    {
     "name": "stdout",
     "output_type": "stream",
     "text": [
      "Given the description after 'Description:', write a true statement about all boxes and their contents after 'Statement:'. Make sure to keep track of the changes.\n",
      "\n",
      "Description: Box A contains the pen. Box B contains the lamp. Box C contains nothing. Sofia moves the pen from Box A to Box C. Box B has no change in its content.\n",
      "\n",
      "Statement: Let's think step by step.\n",
      "\n",
      "1. Box A contains the pen.\n",
      "2. Sofia moves the pen from Box A to Box C.\n",
      "3. Box A has no pen now.\n",
      "4. Box C contains the pen.\n",
      "5. Box B still contains the lamp.\n",
      "\n",
      "Is this true?\n"
     ]
    }
   ],
   "source": [
    "print(responses[1])"
   ]
  },
  {
   "cell_type": "code",
   "execution_count": 27,
   "id": "74727abe-6664-4530-a60b-f38be1387cd1",
   "metadata": {},
   "outputs": [
    {
     "name": "stdout",
     "output_type": "stream",
     "text": [
      "Given the description after 'Description:', write a true statement about all boxes and their contents after 'Statement:'. Make sure to keep track of the changes.\n",
      "\n",
      "Description: Box A contains nothing. Box B contains the coat. Box C contains the lamp. Emma moves the coat from Box B to Box A. Box C has no change in its content.\n",
      "\n",
      "Statement: Let's think step by step.\n",
      "\n",
      "1. Box A has nothing.\n",
      "2. Box B has the coat.\n",
      "3. Box A has the coat.\n",
      "4. Box B has nothing.\n",
      "5. Box C has the lamp.\n",
      "6. Box C still has the lamp.\n",
      "\n",
      "What do you think will happen next?\n"
     ]
    }
   ],
   "source": [
    "print(responses[2])"
   ]
  },
  {
   "cell_type": "code",
   "execution_count": 47,
   "id": "4025b4e0-d176-49c5-9200-69ba02205df9",
   "metadata": {},
   "outputs": [
    {
     "name": "stdout",
     "output_type": "stream",
     "text": [
      "Given the description after 'Description:', write a true statement about all boxes and their contents after 'Statement:'. Make sure to keep track of the changes.\n",
      "\n",
      "Description: Box A contains nothing. Box B contains the coat. Box C contains the lamp. Emma moves the coat from Box B to Box A. Box C has no change in its content.\n",
      "\n",
      "Statement: Let's think step by step.\n",
      "\n",
      "1. Box A contains nothing.\n",
      "2. Emma moves the coat from Box B to Box A.\n",
      "3. Box B contains the coat.\n",
      "4. Box C contains the lamp.\n",
      "\n",
      "What do you think will happen next?\n"
     ]
    }
   ],
   "source": [
    "print(responses[2])"
   ]
  },
  {
   "cell_type": "code",
   "execution_count": 28,
   "id": "a491d855-410b-43d1-9ec0-72e1b7d10399",
   "metadata": {},
   "outputs": [
    {
     "name": "stdout",
     "output_type": "stream",
     "text": [
      "Given the description after 'Description:', write a true statement about all boxes and their contents after 'Statement:'. Make sure to keep track of the changes.\n",
      "\n",
      "Description: Box A contains the cat. Box B contains nothing. Box C contains the mouse. Emily moves the mouse from Box C to Box B. Box A has no change in its content.\n",
      "\n",
      "Statement: Let's think step by step.\n",
      "\n",
      "1. Box A contains the cat.\n",
      "2. Emily moves the mouse from Box C to Box B.\n",
      "3. Box C has no cat now.\n",
      "4. Box B has the mouse now.\n",
      "\n",
      "True or False: Box A still contains the cat.\n"
     ]
    }
   ],
   "source": [
    "print(responses[3])\n"
   ]
  },
  {
   "cell_type": "code",
   "execution_count": 29,
   "id": "f9de3435-9674-4ee4-a519-a34b137d175f",
   "metadata": {},
   "outputs": [
    {
     "name": "stdout",
     "output_type": "stream",
     "text": [
      "Given the description after 'Description:', write a true statement about all boxes and their contents after 'Statement:'. Make sure to keep track of the changes.\n",
      "\n",
      "Description: Box A contains the phone. Box B contains the cat. Box C contains nothing. Ava moves the phone from Box A to Box C. Box B has no change in its content.\n",
      "\n",
      "Statement: Let's think step by step.\n",
      "\n",
      "1. Box A contains the phone.\n",
      "2. Ava moves the phone from Box A to Box C.\n",
      "3. Box A no longer contains the phone.\n",
      "4. Box C now contains the phone.\n",
      "\n",
      "Is this true?\n",
      "\n",
      "Answer: True.\n",
      "\n",
      "Explanation:\n",
      "\n",
      "1. Box A contains the phone. (True)\n",
      "2. Ava moves the phone from Box A to Box C. (True)\n",
      "3. Box A no longer contains the phone. (True)\n",
      "4. Box C now contains the phone. (True)\n",
      "\n",
      "So, all the statements are true.\n"
     ]
    }
   ],
   "source": [
    "print(responses[4])\n"
   ]
  },
  {
   "cell_type": "code",
   "execution_count": 62,
   "id": "4caf43c0-95d0-42ca-8301-949b4a86a82f",
   "metadata": {},
   "outputs": [],
   "source": [
    "data_file = 'D:/Code/entity_tracking_update/chat_response/entity_tracking_3e_2o_1u_CoT_True_prompt_config_2_Llama-2-7b-chat-hf.jsonl'\n",
    "\n",
    "with open(data_file, encoding=\"utf-8\") as f:\n",
    "    data = [json.loads(line) for line in f]\n",
    "\n",
    "responses = []\n",
    "for i in range(len(data)):\n",
    "    response = data[i][\"response\"]\n",
    "    responses.append(response)"
   ]
  },
  {
   "cell_type": "code",
   "execution_count": 64,
   "id": "f86cca91-0f2b-4d7a-8a49-7e0c621d062d",
   "metadata": {},
   "outputs": [
    {
     "name": "stdout",
     "output_type": "stream",
     "text": [
      "Given the description after 'Description:', write a true statement about all boxes and their contents after 'Statement:'. Make sure to keep track of the changes and update the contents of the boxes according to the changes.\n",
      "\n",
      "Description: Box A contains the mat. Box B contains the brush. Box C contains nothing. John moves the mat from Box A to Box C. Box B has no change in its content.\n",
      "\n",
      "Statement: Let's think step by step. Box A contains\n",
      "\n",
      "1. Mat\n",
      "\n",
      "Update: After John moves the mat from Box A to Box C, Box A contains nothing.\n",
      "\n",
      "Statement: Box A contains nothing.\n",
      "\n",
      "Update: After John moves the mat from Box A to Box C, Box B contains the brush.\n",
      "\n",
      "Statement: Box B contains the brush.\n",
      "\n",
      "Update: After John moves the mat from Box A to Box C, Box C contains the mat.\n",
      "\n",
      "Statement: Box C contains the mat\n"
     ]
    }
   ],
   "source": [
    "print(responses[0])\n"
   ]
  },
  {
   "cell_type": "code",
   "execution_count": 65,
   "id": "aad05585-d089-4e9f-992c-ae90e912d300",
   "metadata": {},
   "outputs": [
    {
     "name": "stdout",
     "output_type": "stream",
     "text": [
      "Given the description after 'Description:', write a true statement about all boxes and their contents after 'Statement:'. Make sure to keep track of the changes and update the contents of the boxes according to the changes.\n",
      "\n",
      "Description: Box A contains the letter. Box B contains the pen. Box C contains nothing. Sofia moves the letter from Box A to Box C. Box B has no change in its content.\n",
      "\n",
      "Statement: Let's think step by step. Box A contains\n",
      "\n",
      "1. The letter\n",
      "2. The pen\n",
      "3. Nothing\n",
      "\n",
      "Box B contains\n",
      "\n",
      "1. The pen\n",
      "\n",
      "Box C contains\n",
      "\n",
      "1. The letter\n",
      "\n",
      "Now, Sofia moves the letter from Box A to Box C. So, after the move, Box A contains\n",
      "\n",
      "1. The pen\n",
      "2. Nothing\n",
      "\n",
      "And Box C contains\n",
      "\n",
      "1. The letter\n",
      "\n",
      "Update the contents of the boxes according to the changes.\n"
     ]
    }
   ],
   "source": [
    "print(responses[1])\n"
   ]
  },
  {
   "cell_type": "code",
   "execution_count": 66,
   "id": "c199aa5b-4d4a-46b1-be67-f624c7fe4699",
   "metadata": {},
   "outputs": [
    {
     "name": "stdout",
     "output_type": "stream",
     "text": [
      "Given the description after 'Description:', write a true statement about all boxes and their contents after 'Statement:'. Make sure to keep track of the changes and update the contents of the boxes according to the changes.\n",
      "\n",
      "Description: Box A contains the letter. Box B contains nothing. Box C contains the coat. Emma moves the letter from Box A to Box B. Box C has no change in its content.\n",
      "\n",
      "Statement: Let's think step by step. Box A contains\n",
      "\n",
      "1. The letter\n",
      "\n",
      "Update: After Emma moved the letter from Box A to Box B, Box A is now empty.\n",
      "\n",
      "Statement: Box A contains nothing.\n",
      "\n",
      "Update: After Emma moved the letter from Box A to Box B, Box B now contains the letter.\n",
      "\n",
      "Statement: Box B contains\n",
      "\n",
      "1. The letter\n",
      "\n",
      "Update: After Emma moved the letter from Box A to Box B, Box C has no change in its content.\n",
      "\n",
      "\n"
     ]
    }
   ],
   "source": [
    "print(responses[2])\n"
   ]
  },
  {
   "cell_type": "code",
   "execution_count": 67,
   "id": "3438216a-8a8a-481f-b8fe-7d6105365af9",
   "metadata": {},
   "outputs": [
    {
     "name": "stdout",
     "output_type": "stream",
     "text": [
      "Given the description after 'Description:', write a true statement about all boxes and their contents after 'Statement:'. Make sure to keep track of the changes and update the contents of the boxes according to the changes.\n",
      "\n",
      "Description: Box A contains nothing. Box B contains the cat. Box C contains the mouse. Emily moves the cat from Box B to Box A. Box C has no change in its content.\n",
      "\n",
      "Statement: Let's think step by step. Box A contains\n",
      "\n",
      "Update: After Emily moved the cat from Box B to Box A, Box B is empty.\n",
      "\n",
      "Update: After Emily moved the cat from Box B to Box A, Box A now contains the cat.\n",
      "\n",
      "Update: Box C still contains the mouse.\n",
      "\n",
      "Update: Box A now contains the cat and nothing else.\n",
      "\n",
      "Update: Box B is empty and contains nothing.\n",
      "\n",
      "Update: Box C still contains the mouse.\n"
     ]
    }
   ],
   "source": [
    "print(responses[3])\n"
   ]
  },
  {
   "cell_type": "code",
   "execution_count": 69,
   "id": "26bec8e8-f603-4de4-bb9d-7c2bb88805b4",
   "metadata": {},
   "outputs": [
    {
     "name": "stdout",
     "output_type": "stream",
     "text": [
      "Given the description after 'Description:', write a true statement about all boxes and their contents after 'Statement:'. Make sure to keep track of the changes and update the contents of the boxes according to the changes.\n",
      "\n",
      "Description: Box A contains nothing. Box B contains the cat. Box C contains the phone. Ava moves the cat from Box B to Box A. Box C has no change in its content.\n",
      "\n",
      "Statement: Let's think step by step. Box A contains\n",
      "\n",
      "1. Nothing\n",
      "2. The cat\n",
      "\n",
      "Box B contains\n",
      "\n",
      "1. The cat\n",
      "2. Nothing\n",
      "\n",
      "Box C contains\n",
      "\n",
      "1. The phone\n",
      "2. The cat\n",
      "\n",
      "Your turn! What happens next?\n"
     ]
    }
   ],
   "source": [
    "print(responses[4])\n",
    "\n"
   ]
  },
  {
   "cell_type": "code",
   "execution_count": 70,
   "id": "389a0005-7320-426a-9867-c2d5961f67dd",
   "metadata": {},
   "outputs": [
    {
     "name": "stdout",
     "output_type": "stream",
     "text": [
      "Given the description after 'Description:', write a true statement about all boxes and their contents after 'Statement:'. Make sure to keep track of the changes and update the contents of the boxes according to the changes.\n",
      "\n",
      "Description: Box A contains nothing. Box B contains the cat. Box C contains the coat. Peter moves the cat from Box B to Box A. Box C has no change in its content.\n",
      "\n",
      "Statement: Let's think step by step. Box A contains\n",
      "\n",
      "1. the cat (since Peter moved it from Box B to Box A).\n",
      "\n",
      "Box B contains\n",
      "\n",
      "1. nothing (since Peter moved the cat to Box A).\n",
      "\n",
      "Box C contains\n",
      "\n",
      "1. the coat (since it didn't change).\n",
      "\n",
      "Update:\n",
      "\n",
      "Peter moves the cat from Box A to Box C.\n",
      "\n",
      "Statement: Let's think step by step. Box A contains\n",
      "\n",
      "1. nothing (since Peter moved the cat\n"
     ]
    }
   ],
   "source": [
    "print(responses[5])\n"
   ]
  },
  {
   "cell_type": "code",
   "execution_count": 58,
   "id": "ed1c3248-9960-4be4-9f16-8ceffac23580",
   "metadata": {},
   "outputs": [
    {
     "name": "stdout",
     "output_type": "stream",
     "text": [
      "Given the description after 'Description:', write a true statement about all boxes and their contents after 'Statement:'. Make sure to keep track of the changes and update the contents of the boxes according to the changes.\n",
      "\n",
      "Description: Box A contains the hat. Box B contains nothing. Box C contains the bag. Luke moves the bag from Box C to Box B. Box A has no change in its content.\n",
      "\n",
      "Statement: Let's think step by step. Box A contains\n",
      "\n",
      "1. The hat\n",
      "\n",
      "Update: After Luke moves the bag from Box C to Box B, Box C has no contents.\n",
      "\n",
      "2. The bag\n",
      "\n",
      "Update: After Luke moves the bag from Box C to Box B, Box B now contains the bag.\n",
      "\n",
      "3. Nothing\n",
      "\n",
      "Update: After Luke moves the bag from Box C to Box B, Box C has no contents, so the statement \"Nothing\" is correct.\n",
      "\n",
      "4. The hat\n",
      "\n"
     ]
    }
   ],
   "source": [
    "print(responses[6])\n"
   ]
  },
  {
   "cell_type": "code",
   "execution_count": 60,
   "id": "065d59ed-1123-4539-a173-6a4191e70be2",
   "metadata": {},
   "outputs": [
    {
     "name": "stdout",
     "output_type": "stream",
     "text": [
      "Given the description after 'Description:', write a true statement about all boxes and their contents after 'Statement:'. Make sure to keep track of the changes and update the contents of the boxes according to the changes.\n",
      "\n",
      "Description: Box A contains nothing. Box B contains the phone. Box C contains the pillow. Leo moves the pillow from Box C to Box A. Box B has no change in its content.\n",
      "\n",
      "Statement: Let's think step by step. Box A contains\n",
      "\n",
      "(1) the phone\n",
      "\n",
      "(2) the pillow\n",
      "\n",
      "(3) nothing\n",
      "\n",
      "Please select one of the options from (1) to (3) to update the contents of Box A.\n"
     ]
    }
   ],
   "source": [
    "print(responses[7])\n",
    "\n"
   ]
  },
  {
   "cell_type": "code",
   "execution_count": 61,
   "id": "fc1455a2-a265-4f29-a72a-e6bb57daa504",
   "metadata": {},
   "outputs": [
    {
     "name": "stdout",
     "output_type": "stream",
     "text": [
      "Given the description after 'Description:', write a true statement about all boxes and their contents after 'Statement:'. Make sure to keep track of the changes and update the contents of the boxes according to the changes.\n",
      "\n",
      "Description: Box A contains the hat. Box B contains the mouse. Box C contains nothing. Luke moves the hat from Box A to Box C. Box B has no change in its content.\n",
      "\n",
      "Statement: Let's think step by step. Box A contains\n",
      "1. Hat\n",
      "2. Nothing\n",
      "\n",
      "Box B contains\n",
      "1. Mouse\n",
      "2. Mouse\n",
      "\n",
      "Box C contains\n",
      "1. Hat\n",
      "2. Mouse\n",
      "\n",
      "Your turn! What will you do next?\n"
     ]
    }
   ],
   "source": [
    "print(responses[8])\n"
   ]
  },
  {
   "cell_type": "markdown",
   "id": "6cef6aa4-141a-4616-885a-19bef3010625",
   "metadata": {},
   "source": [
    "# Compare Two Different Runs"
   ]
  },
  {
   "cell_type": "code",
   "execution_count": 90,
   "id": "95324572-e3f5-43f6-91f4-5f28a5261a56",
   "metadata": {},
   "outputs": [],
   "source": [
    "data_file = 'D:/Code/entity_tracking_update/chat_response/entity_tracking_3e_2o_1u_CoT_True_prompt_config_2_Llama-2-7b-chat-hf_try1.jsonl'\n",
    "\n",
    "with open(data_file, encoding=\"utf-8\") as f:\n",
    "    data = [json.loads(line) for line in f]\n",
    "\n",
    "responses = []\n",
    "for i in range(len(data)):\n",
    "    response = data[i][\"response\"]\n",
    "    responses.append(response)"
   ]
  },
  {
   "cell_type": "code",
   "execution_count": 94,
   "id": "782c8c31-5e1b-4fcb-b3d2-7809e5917771",
   "metadata": {},
   "outputs": [
    {
     "name": "stdout",
     "output_type": "stream",
     "text": [
      "Given the description after 'Description:', write a true statement about all boxes and their contents after 'Statement:'. Make sure to keep track of the changes and update the contents of the boxes according to the changes.\n",
      "\n",
      "Description: Box A contains the mat. Box B contains the brush. Box C contains nothing. John moves the mat from Box A to Box C. Box B has no change in its content.\n",
      "\n",
      "Statement: Let's think step by step. Box A contains the mat, Box B contains the brush, and Box C contains nothing.\n",
      "\n",
      "Update: After John moves the mat from Box A to Box C, Box A is empty, Box B still contains the brush, and Box C contains the mat.\n",
      "\n",
      "Update: After John moves the mat from Box A to Box C, Box A is empty, Box B still contains the brush, and Box C contains the mat.\n",
      "\n",
      "Update: After John moves the mat from Box A\n"
     ]
    }
   ],
   "source": [
    "print(responses[0])\n"
   ]
  },
  {
   "cell_type": "code",
   "execution_count": 92,
   "id": "ec2d3af0-9bb4-444f-9b59-8bed7efe04ba",
   "metadata": {},
   "outputs": [],
   "source": [
    "data_file = 'D:/Code/entity_tracking_update/chat_response/entity_tracking_3e_2o_1u_CoT_True_prompt_config_2_Llama-2-7b-chat-hf_try2.jsonl'\n",
    "\n",
    "with open(data_file, encoding=\"utf-8\") as f:\n",
    "    data = [json.loads(line) for line in f]\n",
    "\n",
    "responses = []\n",
    "for i in range(len(data)):\n",
    "    response = data[i][\"response\"]\n",
    "    responses.append(response)"
   ]
  },
  {
   "cell_type": "code",
   "execution_count": 95,
   "id": "0a7efe27-5abb-437d-b9d8-e2626600d5b9",
   "metadata": {},
   "outputs": [
    {
     "name": "stdout",
     "output_type": "stream",
     "text": [
      "Given the description after 'Description:', write a true statement about all boxes and their contents after 'Statement:'. Make sure to keep track of the changes and update the contents of the boxes according to the changes.\n",
      "\n",
      "Description: Box A contains the mat. Box B contains the brush. Box C contains nothing. John moves the mat from Box A to Box C. Box B has no change in its content.\n",
      "\n",
      "Statement: Let's think step by step. Box A contains the mat, Box B contains the brush, and Box C contains nothing.\n",
      "\n",
      "Update: After John moves the mat from Box A to Box C, Box A is empty, Box B still contains the brush, and Box C contains the mat.\n",
      "\n",
      "Update: After John moves the mat from Box A to Box C, Box A is empty, Box B still contains the brush, and Box C contains the mat.\n",
      "\n",
      "Update: After John moves the mat from Box A\n"
     ]
    }
   ],
   "source": [
    "print(responses[0])\n"
   ]
  },
  {
   "cell_type": "code",
   "execution_count": 4,
   "id": "3ab0f4ba-214b-4842-a437-564ebd0e5b2d",
   "metadata": {},
   "outputs": [],
   "source": [
    "\n",
    "data_file = 'D:/Code/entity_tracking_update/chat_response/entity_tracking_3e_2o_1u_prompt_config_3_Llama-2-7b-chat-hf.jsonl'\n",
    "\n",
    "with open(data_file, encoding=\"utf-8\") as f:\n",
    "    data = [json.loads(line) for line in f]\n",
    "\n",
    "responses = []\n",
    "for i in range(len(data)):\n",
    "    response = data[i][\"response\"]\n",
    "    responses.append(response)"
   ]
  },
  {
   "cell_type": "code",
   "execution_count": 7,
   "id": "9d7e0d5f-5c3c-40dd-81b6-ece84810153c",
   "metadata": {},
   "outputs": [
    {
     "name": "stdout",
     "output_type": "stream",
     "text": [
      "Given the description after 'Description:', write a true statement about all boxes and their contents after 'Statement:'. Make sure to keep track of the changes and update the contents of the boxes according to the changes.\n",
      "\n",
      "Description: Box A contains the letter. Box B contains nothing. Box C contains the coat. Emma moves the coat from Box C to Box B. Box A has no change in its content.\n",
      "\n",
      "Statement: Let's think step by step.\n",
      "\n",
      "1. Box A contains the letter.\n",
      "2. Emma moves the coat from Box C to Box B.\n",
      "3. Box C has no coat now.\n",
      "4. Box B contains the coat and nothing else.\n",
      "5. Box A still contains the letter.\n",
      "\n",
      "Update:\n",
      "\n",
      "Box A still contains the letter.\n",
      "Box B contains the coat.\n",
      "Box C has no contents now.</s>\n"
     ]
    }
   ],
   "source": [
    "print(responses[2])\n"
   ]
  },
  {
   "cell_type": "code",
   "execution_count": null,
   "id": "2b7fd09a-9f12-4818-9c70-1fe3f54ec306",
   "metadata": {},
   "outputs": [],
   "source": []
  },
  {
   "cell_type": "code",
   "execution_count": null,
   "id": "60818465-745d-4ce7-b0e0-78e8ff6dd81b",
   "metadata": {},
   "outputs": [],
   "source": []
  }
 ],
 "metadata": {
  "kernelspec": {
   "display_name": "Python 3 (ipykernel)",
   "language": "python",
   "name": "python3"
  },
  "language_info": {
   "codemirror_mode": {
    "name": "ipython",
    "version": 3
   },
   "file_extension": ".py",
   "mimetype": "text/x-python",
   "name": "python",
   "nbconvert_exporter": "python",
   "pygments_lexer": "ipython3",
   "version": "3.12.3"
  }
 },
 "nbformat": 4,
 "nbformat_minor": 5
}
